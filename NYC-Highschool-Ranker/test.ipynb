{
 "metadata": {
  "language_info": {
   "codemirror_mode": {
    "name": "ipython",
    "version": 3
   },
   "file_extension": ".py",
   "mimetype": "text/x-python",
   "name": "python",
   "nbconvert_exporter": "python",
   "pygments_lexer": "ipython3",
   "version": "3.9.1-final"
  },
  "orig_nbformat": 2,
  "kernelspec": {
   "name": "python3",
   "display_name": "Python 3.9.1 64-bit",
   "metadata": {
    "interpreter": {
     "hash": "2ad754ea032290957aa8fce4dd099732ab5b91a5d96ccf4909927f47f3cd2c17"
    }
   }
  }
 },
 "nbformat": 4,
 "nbformat_minor": 2,
 "cells": [
  {
   "cell_type": "code",
   "execution_count": 36,
   "metadata": {},
   "outputs": [],
   "source": [
    "import pandas as pd"
   ]
  },
  {
   "cell_type": "code",
   "execution_count": 37,
   "metadata": {},
   "outputs": [
    {
     "output_type": "execute_result",
     "data": {
      "text/plain": [
       "          dbn  Mean Score\n",
       "0      01M292        52.3\n",
       "1      01M292        63.9\n",
       "2      01M292        67.5\n",
       "3      01M292        48.0\n",
       "4      01M292        61.5\n",
       "...       ...         ...\n",
       "12165  84X553        69.1\n",
       "12166  84X553        68.5\n",
       "12167  84X553        72.8\n",
       "12168  84X581        69.3\n",
       "12169  84X581        61.9\n",
       "\n",
       "[12170 rows x 2 columns]"
      ],
      "text/html": "<div>\n<style scoped>\n    .dataframe tbody tr th:only-of-type {\n        vertical-align: middle;\n    }\n\n    .dataframe tbody tr th {\n        vertical-align: top;\n    }\n\n    .dataframe thead th {\n        text-align: right;\n    }\n</style>\n<table border=\"1\" class=\"dataframe\">\n  <thead>\n    <tr style=\"text-align: right;\">\n      <th></th>\n      <th>dbn</th>\n      <th>Mean Score</th>\n    </tr>\n  </thead>\n  <tbody>\n    <tr>\n      <th>0</th>\n      <td>01M292</td>\n      <td>52.3</td>\n    </tr>\n    <tr>\n      <th>1</th>\n      <td>01M292</td>\n      <td>63.9</td>\n    </tr>\n    <tr>\n      <th>2</th>\n      <td>01M292</td>\n      <td>67.5</td>\n    </tr>\n    <tr>\n      <th>3</th>\n      <td>01M292</td>\n      <td>48.0</td>\n    </tr>\n    <tr>\n      <th>4</th>\n      <td>01M292</td>\n      <td>61.5</td>\n    </tr>\n    <tr>\n      <th>...</th>\n      <td>...</td>\n      <td>...</td>\n    </tr>\n    <tr>\n      <th>12165</th>\n      <td>84X553</td>\n      <td>69.1</td>\n    </tr>\n    <tr>\n      <th>12166</th>\n      <td>84X553</td>\n      <td>68.5</td>\n    </tr>\n    <tr>\n      <th>12167</th>\n      <td>84X553</td>\n      <td>72.8</td>\n    </tr>\n    <tr>\n      <th>12168</th>\n      <td>84X581</td>\n      <td>69.3</td>\n    </tr>\n    <tr>\n      <th>12169</th>\n      <td>84X581</td>\n      <td>61.9</td>\n    </tr>\n  </tbody>\n</table>\n<p>12170 rows × 2 columns</p>\n</div>"
     },
     "metadata": {},
     "execution_count": 37
    }
   ],
   "source": [
    "schoolregent = pd.read_csv(\"data/2014_-_2017_Regents_modified.csv\")\n",
    "schoolregent"
   ]
  },
  {
   "cell_type": "code",
   "execution_count": 38,
   "metadata": {},
   "outputs": [],
   "source": [
    "schoolregent = schoolregent.groupby(\"dbn\", as_index=False)['Mean Score'].mean()"
   ]
  },
  {
   "cell_type": "code",
   "execution_count": 39,
   "metadata": {},
   "outputs": [
    {
     "output_type": "execute_result",
     "data": {
      "text/plain": [
       "        dbn  Mean Score\n",
       "0    01M292   58.903846\n",
       "1    01M448   66.737143\n",
       "2    01M458   54.523077\n",
       "3    01M509   61.266667\n",
       "4    01M515   76.041935\n",
       "..      ...         ...\n",
       "458  84X395   65.061290\n",
       "459  84X429   66.100000\n",
       "460  84X539   59.768571\n",
       "461  84X553   62.448485\n",
       "462  84X581   65.600000\n",
       "\n",
       "[463 rows x 2 columns]"
      ],
      "text/html": "<div>\n<style scoped>\n    .dataframe tbody tr th:only-of-type {\n        vertical-align: middle;\n    }\n\n    .dataframe tbody tr th {\n        vertical-align: top;\n    }\n\n    .dataframe thead th {\n        text-align: right;\n    }\n</style>\n<table border=\"1\" class=\"dataframe\">\n  <thead>\n    <tr style=\"text-align: right;\">\n      <th></th>\n      <th>dbn</th>\n      <th>Mean Score</th>\n    </tr>\n  </thead>\n  <tbody>\n    <tr>\n      <th>0</th>\n      <td>01M292</td>\n      <td>58.903846</td>\n    </tr>\n    <tr>\n      <th>1</th>\n      <td>01M448</td>\n      <td>66.737143</td>\n    </tr>\n    <tr>\n      <th>2</th>\n      <td>01M458</td>\n      <td>54.523077</td>\n    </tr>\n    <tr>\n      <th>3</th>\n      <td>01M509</td>\n      <td>61.266667</td>\n    </tr>\n    <tr>\n      <th>4</th>\n      <td>01M515</td>\n      <td>76.041935</td>\n    </tr>\n    <tr>\n      <th>...</th>\n      <td>...</td>\n      <td>...</td>\n    </tr>\n    <tr>\n      <th>458</th>\n      <td>84X395</td>\n      <td>65.061290</td>\n    </tr>\n    <tr>\n      <th>459</th>\n      <td>84X429</td>\n      <td>66.100000</td>\n    </tr>\n    <tr>\n      <th>460</th>\n      <td>84X539</td>\n      <td>59.768571</td>\n    </tr>\n    <tr>\n      <th>461</th>\n      <td>84X553</td>\n      <td>62.448485</td>\n    </tr>\n    <tr>\n      <th>462</th>\n      <td>84X581</td>\n      <td>65.600000</td>\n    </tr>\n  </tbody>\n</table>\n<p>463 rows × 2 columns</p>\n</div>"
     },
     "metadata": {},
     "execution_count": 39
    }
   ],
   "source": [
    "pd.DataFrame(schoolregent)"
   ]
  },
  {
   "cell_type": "code",
   "execution_count": 40,
   "metadata": {},
   "outputs": [],
   "source": [
    "schoolregent.to_csv(\"2014_-_2017_Regents_modified.csv\", encoding='utf-8', index=False)"
   ]
  }
 ]
}