{
 "metadata": {
  "language_info": {
   "codemirror_mode": {
    "name": "ipython",
    "version": 3
   },
   "file_extension": ".py",
   "mimetype": "text/x-python",
   "name": "python",
   "nbconvert_exporter": "python",
   "pygments_lexer": "ipython3",
   "version": "3.9.1"
  },
  "orig_nbformat": 2,
  "kernelspec": {
   "name": "python3",
   "display_name": "Python 3.9.1 64-bit",
   "metadata": {
    "interpreter": {
     "hash": "0205228c2373ffbc50ac845b2c5bb902e3b098070fd68ffd7e90516747eef554"
    }
   }
  }
 },
 "nbformat": 4,
 "nbformat_minor": 2,
 "cells": [
  {
   "cell_type": "code",
   "execution_count": 19,
   "metadata": {},
   "outputs": [],
   "source": [
    "import pandas as pd"
   ]
  },
  {
   "source": [
    "\"\"\"Preparing the data\"\"\"\n",
    "\n",
    "# read the csv\n",
    "schooldirectory = pd.read_csv(\"data/2016_DOE_High_School_Directory.csv\")\n",
    "schoolsat = pd.read_csv(\"data/2012_SAT_Results.csv\")\n",
    "schoolregent = pd.read_csv(\"data/2014_-_2017_Regents_modified.csv\")\n",
    "schoolperformance = pd.read_csv(\"data/2016_DOE_High_School_Performance__Directory.csv\")\n",
    "\n",
    "# Modify datasets before joining\n",
    "schoolsat['Num of SAT Test Takers'] = pd.to_numeric(schoolsat['Num of SAT Test Takers'], errors='coerce')\n",
    "schoolsat = schoolsat.dropna(subset=['Num of SAT Test Takers'])\n",
    "\n",
    "schoolsat['SAT Critical Reading Avg. Score'] = pd.to_numeric(schoolsat['SAT Critical Reading Avg. Score'], errors='coerce')\n",
    "schoolsat['SAT Math Avg. Score'] = pd.to_numeric(schoolsat['SAT Math Avg. Score'], errors='coerce')\n",
    "schoolsat['SAT Writing Avg. Score'] = pd.to_numeric(schoolsat['SAT Writing Avg. Score'], errors='coerce')\n",
    "\n",
    "# join data\n",
    "schoolperformance = schoolperformance.join(schooldirectory.set_index('dbn'), on='dbn')\n",
    "schoolperformance = schoolperformance.join(schoolsat.set_index('dbn'), on='dbn')\n",
    "schoolperformance = schoolperformance.join(schoolregent.set_index('dbn'), on='dbn')\n",
    "schoolperformance = schoolperformance.fillna(0)"
   ],
   "cell_type": "code",
   "metadata": {},
   "execution_count": 20,
   "outputs": []
  },
  {
   "cell_type": "code",
   "execution_count": 21,
   "metadata": {},
   "outputs": [],
   "source": [
    "def method_1():\n",
    "    \"\"\"\n",
    "    Method 1\n",
    "    Algorithm to rank the schools based on brute force. Better the stats better the ranking.\n",
    "\n",
    "    Personal opinion of accuracy based on the data shown - (8/10)\n",
    "    *My personal opinion is based of the \"rep\" of the school.\n",
    "    \"\"\" \n",
    "    # Basic Stats\n",
    "    basic_stats = (\n",
    "        schoolperformance[\"graduation_rate_2013\"] + schoolperformance[\"graduation_rate_2014\"] + schoolperformance[\"college_career_rate_2013\"] +          schoolperformance[\"college_career_rate_2014\"] + schoolperformance[\"pct_stu_enough_variety_2014\"] + schoolperformance[\"pct_stu_safe_2014\"]\n",
    "    )\n",
    "\n",
    "    # SAT\n",
    "    sat_stats = (\n",
    "        schoolperformance[\"SAT Critical Reading Avg. Score\"].astype(int) + schoolperformance[\"SAT Math Avg. Score\"].astype(int) +                        schoolperformance[\"SAT Writing Avg. Score\"].astype(int)\n",
    "    )\n",
    "\n",
    "    #Regent\n",
    "    regent_stats = (\n",
    "        schoolperformance[\"Mean Score\"]\n",
    "    )\n",
    "\n",
    "    schoolperformance[\"score\"] = basic_stats + sat_stats + regent_stats\n",
    "\n",
    "    return schoolperformance[\"score\"]"
   ]
  },
  {
   "source": [
    "def method_2():\n",
    "    \"\"\"\n",
    "    Method 2\n",
    "    Algorithm to rank the schools by average and personal opinion. This way the score doesn't solely rely on the SAT scores of students instead      it is split in a ratio. In this case the ratio is 33:33:33. The score can be considered as a numeric grade for each schools performance.\n",
    "\n",
    "    Personal opinion of accuracy based of the data shown - (9/10)\n",
    "    *My personal opinion is based of the \"rep\" of the school.\n",
    "    \"\"\"\n",
    "\n",
    "    # Basic Stats\n",
    "    basic_stats = (\n",
    "            (schoolperformance[\"graduation_rate_2013\"] + schoolperformance[\"graduation_rate_2014\"] + schoolperformance[\"college_career_rate_2013\"] + schoolperformance[\"college_career_rate_2014\"] + schoolperformance[\"pct_stu_enough_variety_2014\"] + schoolperformance[\"pct_stu_safe_2014\"])/600\n",
    "        )\n",
    "\n",
    "    # SAT \n",
    "    sat_stats = (\n",
    "        (schoolperformance[\"SAT Critical Reading Avg. Score\"].astype(int) + schoolperformance[\"SAT Math Avg. Score\"].astype(int) + schoolperformance[\"SAT Writing Avg. Score\"].astype(int)) /2400\n",
    "        )\n",
    "    \n",
    "    #Regent\n",
    "    regent_stats = (\n",
    "        schoolperformance[\"Mean Score\"]/100\n",
    "    )\n",
    "\n",
    "    schoolperformance[\"score\"] = (basic_stats + sat_stats + regent_stats)/3\n",
    "\n",
    "    return schoolperformance[\"score\"]"
   ],
   "cell_type": "code",
   "metadata": {},
   "execution_count": 22,
   "outputs": []
  },
  {
   "source": [
    "\"\"\"Method 1\"\"\"\n",
    "method_1()\n",
    "\n",
    "# sorts the school by the score \n",
    "schoolperformance.sort_values(by=['score'], ascending=False, inplace=True)\n",
    "# gets rid of the ones without data\n",
    "schoolperformance_display = schoolperformance[[\"dbn\", \"school_name\", \"borough\", \"total_students\", \"score\"]]\n",
    "best_schools = schoolperformance_display.head(10)\n",
    "best_schools"
   ],
   "cell_type": "code",
   "metadata": {},
   "execution_count": 23,
   "outputs": [
    {
     "output_type": "execute_result",
     "data": {
      "text/plain": [
       "        dbn                                        school_name        borough  \\\n",
       "46   02M475                             Stuyvesant High School      Manhattan   \n",
       "186  10X445                       Bronx High School of Science          Bronx   \n",
       "430  31R605                Staten Island Technical High School  Staten Island   \n",
       "363  25Q525                        Townsend Harris High School         Queens   \n",
       "192  10X696  High School of American Studies at Lehman College          Bronx   \n",
       "5    01M696                     Bard High School Early College      Manhattan   \n",
       "95   05M692  High School for Mathematics, Science and Engin...      Manhattan   \n",
       "396  28Q687  Queens High School for the Sciences at York Co...         Queens   \n",
       "231  13K430                     Brooklyn Technical High School       Brooklyn   \n",
       "33   02M416                      Eleanor Roosevelt High School      Manhattan   \n",
       "\n",
       "     total_students        score  \n",
       "46             3296  2767.566667  \n",
       "186            3015  2637.556667  \n",
       "430            1247  2632.031034  \n",
       "363            1132  2585.806250  \n",
       "192             376  2574.656250  \n",
       "5               545  2512.313333  \n",
       "95              470  2485.268966  \n",
       "396             426  2479.360714  \n",
       "231            5447  2463.847059  \n",
       "33              541  2421.433333  "
      ],
      "text/html": "<div>\n<style scoped>\n    .dataframe tbody tr th:only-of-type {\n        vertical-align: middle;\n    }\n\n    .dataframe tbody tr th {\n        vertical-align: top;\n    }\n\n    .dataframe thead th {\n        text-align: right;\n    }\n</style>\n<table border=\"1\" class=\"dataframe\">\n  <thead>\n    <tr style=\"text-align: right;\">\n      <th></th>\n      <th>dbn</th>\n      <th>school_name</th>\n      <th>borough</th>\n      <th>total_students</th>\n      <th>score</th>\n    </tr>\n  </thead>\n  <tbody>\n    <tr>\n      <th>46</th>\n      <td>02M475</td>\n      <td>Stuyvesant High School</td>\n      <td>Manhattan</td>\n      <td>3296</td>\n      <td>2767.566667</td>\n    </tr>\n    <tr>\n      <th>186</th>\n      <td>10X445</td>\n      <td>Bronx High School of Science</td>\n      <td>Bronx</td>\n      <td>3015</td>\n      <td>2637.556667</td>\n    </tr>\n    <tr>\n      <th>430</th>\n      <td>31R605</td>\n      <td>Staten Island Technical High School</td>\n      <td>Staten Island</td>\n      <td>1247</td>\n      <td>2632.031034</td>\n    </tr>\n    <tr>\n      <th>363</th>\n      <td>25Q525</td>\n      <td>Townsend Harris High School</td>\n      <td>Queens</td>\n      <td>1132</td>\n      <td>2585.806250</td>\n    </tr>\n    <tr>\n      <th>192</th>\n      <td>10X696</td>\n      <td>High School of American Studies at Lehman College</td>\n      <td>Bronx</td>\n      <td>376</td>\n      <td>2574.656250</td>\n    </tr>\n    <tr>\n      <th>5</th>\n      <td>01M696</td>\n      <td>Bard High School Early College</td>\n      <td>Manhattan</td>\n      <td>545</td>\n      <td>2512.313333</td>\n    </tr>\n    <tr>\n      <th>95</th>\n      <td>05M692</td>\n      <td>High School for Mathematics, Science and Engin...</td>\n      <td>Manhattan</td>\n      <td>470</td>\n      <td>2485.268966</td>\n    </tr>\n    <tr>\n      <th>396</th>\n      <td>28Q687</td>\n      <td>Queens High School for the Sciences at York Co...</td>\n      <td>Queens</td>\n      <td>426</td>\n      <td>2479.360714</td>\n    </tr>\n    <tr>\n      <th>231</th>\n      <td>13K430</td>\n      <td>Brooklyn Technical High School</td>\n      <td>Brooklyn</td>\n      <td>5447</td>\n      <td>2463.847059</td>\n    </tr>\n    <tr>\n      <th>33</th>\n      <td>02M416</td>\n      <td>Eleanor Roosevelt High School</td>\n      <td>Manhattan</td>\n      <td>541</td>\n      <td>2421.433333</td>\n    </tr>\n  </tbody>\n</table>\n</div>"
     },
     "metadata": {},
     "execution_count": 23
    }
   ]
  },
  {
   "cell_type": "code",
   "execution_count": 24,
   "metadata": {},
   "outputs": [
    {
     "output_type": "execute_result",
     "data": {
      "text/plain": [
       "                                           school_name        borough  \\\n",
       "46                              Stuyvesant High School      Manhattan   \n",
       "186                       Bronx High School of Science          Bronx   \n",
       "430                Staten Island Technical High School  Staten Island   \n",
       "363                        Townsend Harris High School         Queens   \n",
       "192  High School of American Studies at Lehman College          Bronx   \n",
       "5                       Bard High School Early College      Manhattan   \n",
       "95   High School for Mathematics, Science and Engin...      Manhattan   \n",
       "33                       Eleanor Roosevelt High School      Manhattan   \n",
       "396  Queens High School for the Sciences at York Co...         Queens   \n",
       "231                     Brooklyn Technical High School       Brooklyn   \n",
       "\n",
       "     total_students     score  \n",
       "46             3296  0.918556  \n",
       "186            3015  0.896439  \n",
       "430            1247  0.895798  \n",
       "363            1132  0.890188  \n",
       "192             376  0.876632  \n",
       "5               545  0.853822  \n",
       "95              470  0.853535  \n",
       "33              541  0.850056  \n",
       "396             426  0.844536  \n",
       "231            5447  0.843518  "
      ],
      "text/html": "<div>\n<style scoped>\n    .dataframe tbody tr th:only-of-type {\n        vertical-align: middle;\n    }\n\n    .dataframe tbody tr th {\n        vertical-align: top;\n    }\n\n    .dataframe thead th {\n        text-align: right;\n    }\n</style>\n<table border=\"1\" class=\"dataframe\">\n  <thead>\n    <tr style=\"text-align: right;\">\n      <th></th>\n      <th>school_name</th>\n      <th>borough</th>\n      <th>total_students</th>\n      <th>score</th>\n    </tr>\n  </thead>\n  <tbody>\n    <tr>\n      <th>46</th>\n      <td>Stuyvesant High School</td>\n      <td>Manhattan</td>\n      <td>3296</td>\n      <td>0.918556</td>\n    </tr>\n    <tr>\n      <th>186</th>\n      <td>Bronx High School of Science</td>\n      <td>Bronx</td>\n      <td>3015</td>\n      <td>0.896439</td>\n    </tr>\n    <tr>\n      <th>430</th>\n      <td>Staten Island Technical High School</td>\n      <td>Staten Island</td>\n      <td>1247</td>\n      <td>0.895798</td>\n    </tr>\n    <tr>\n      <th>363</th>\n      <td>Townsend Harris High School</td>\n      <td>Queens</td>\n      <td>1132</td>\n      <td>0.890188</td>\n    </tr>\n    <tr>\n      <th>192</th>\n      <td>High School of American Studies at Lehman College</td>\n      <td>Bronx</td>\n      <td>376</td>\n      <td>0.876632</td>\n    </tr>\n    <tr>\n      <th>5</th>\n      <td>Bard High School Early College</td>\n      <td>Manhattan</td>\n      <td>545</td>\n      <td>0.853822</td>\n    </tr>\n    <tr>\n      <th>95</th>\n      <td>High School for Mathematics, Science and Engin...</td>\n      <td>Manhattan</td>\n      <td>470</td>\n      <td>0.853535</td>\n    </tr>\n    <tr>\n      <th>33</th>\n      <td>Eleanor Roosevelt High School</td>\n      <td>Manhattan</td>\n      <td>541</td>\n      <td>0.850056</td>\n    </tr>\n    <tr>\n      <th>396</th>\n      <td>Queens High School for the Sciences at York Co...</td>\n      <td>Queens</td>\n      <td>426</td>\n      <td>0.844536</td>\n    </tr>\n    <tr>\n      <th>231</th>\n      <td>Brooklyn Technical High School</td>\n      <td>Brooklyn</td>\n      <td>5447</td>\n      <td>0.843518</td>\n    </tr>\n  </tbody>\n</table>\n</div>"
     },
     "metadata": {},
     "execution_count": 24
    }
   ],
   "source": [
    "\"\"\"Method 2\"\"\"\n",
    "method_2()\n",
    "\n",
    "# sorts the school by the score \n",
    "schoolperformance.sort_values(by=['score'], ascending=False, inplace=True)\n",
    "# gets rid of the ones without data\n",
    "schoolperformance_display = schoolperformance[[\"school_name\", \"borough\", \"total_students\", \"score\"]]\n",
    "best_schools = schoolperformance_display.head(10)\n",
    "best_schools"
   ]
  }
 ]
}